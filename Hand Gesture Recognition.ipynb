{
  "nbformat": 4,
  "nbformat_minor": 0,
  "metadata": {
    "colab": {
      "provenance": [],
      "authorship_tag": "ABX9TyOX3FHSIpXc6qAItCjn9V53",
      "include_colab_link": true
    },
    "kernelspec": {
      "name": "python3",
      "display_name": "Python 3"
    },
    "language_info": {
      "name": "python"
    }
  },
  "cells": [
    {
      "cell_type": "markdown",
      "metadata": {
        "id": "view-in-github",
        "colab_type": "text"
      },
      "source": [
        "<a href=\"https://colab.research.google.com/github/adiX002/adiX002/blob/main/Hand%20Gesture%20Recognition.ipynb\" target=\"_parent\"><img src=\"https://colab.research.google.com/assets/colab-badge.svg\" alt=\"Open In Colab\"/></a>"
      ]
    },
    {
      "cell_type": "code",
      "execution_count": 34,
      "metadata": {
        "id": "n5lXZtZMlQ4b"
      },
      "outputs": [],
      "source": [
        "import cv2\n",
        "import mediapipe as mp\n",
        "\n",
        "mp_drawing = mp.solutions.drawing_utils\n",
        "mp_hands = mp.solutions.hands\n",
        "\n",
        "# Initialize video capture object \n",
        "cap = cv2.VideoCapture(0)\n",
        "\n",
        "# Initialize Mediapipe hands object \n",
        "with mp_hands.Hands(\n",
        "    min_detection_confidence=0.5, \n",
        "    min_tracking_confidence=0.5) as hands:\n",
        "\n",
        "    # Loop over video frames \n",
        "    while cap.isOpened():\n",
        "        # Read video frame \n",
        "        success, image = cap.read()\n",
        "\n",
        "        if not success:\n",
        "            # If reading the frame was unsuccessful, break out of the loop\n",
        "            break\n",
        " \n",
        "\n",
        "            # Convert image to RGB color space\n",
        "            image = cv2.cvtColor(cv2.flip(image, 1), cv2.COLOR_BGR2RGB)\n",
        "\n",
        "            # Set image to read-only to improve performance \n",
        "            image.flags.writeable = False\n",
        "\n",
        "            # Perform hand detection \n",
        "            results = hands.process(image)\n",
        "\n",
        "            # Set image back to writable \n",
        "            image.flags.writeable = True\n",
        "\n",
        "            # Convert image back to BGR color space\n",
        "            image = cv2.cvtColor(image, cv2.COLOR_RGB2BGR)\n",
        "\n",
        "            # Draw hand landmarks on the image \n",
        "            if results.multi_hand_landmarks:\n",
        "                for hand_landmarks in results.multi_hand_landmarks: \n",
        "                  mp_drawing.draw_landmarks(\n",
        "                      image, hand_landmarks, \n",
        "      \n",
        "        mp_hands.HAND_CONNECTIONS)\n",
        "            # Show image\n",
        "            cv2.imshow('Hand Gesture Recognition', image)\n",
        "\n",
        "            # Exit program when 'q' key is pressed \n",
        "            if(cv2.waitKey(1) == ord('q')):\n",
        "                break\n",
        "\n",
        "        # Release video capture object \n",
        "        cap.release()\n",
        "\n",
        "        # Close all windows \n",
        "        cv2.destroyAllWindows()\n",
        "\n"
      ]
    }
  ]
}